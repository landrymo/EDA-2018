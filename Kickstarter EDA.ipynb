{
 "cells": [
  {
   "cell_type": "markdown",
   "metadata": {},
   "source": [
    "Chargement des diverses librairies dont j'aurai besoin pour la réalisation de l'EDA "
   ]
  },
  {
   "cell_type": "code",
   "execution_count": 1,
   "metadata": {},
   "outputs": [],
   "source": [
    "import pandas as pd\n",
    "import numpy as np\n",
    "import seaborn as sns\n",
    "import matplotlib.pyplot as plt"
   ]
  },
  {
   "cell_type": "markdown",
   "metadata": {},
   "source": [
    "Importation de certaines librairies qui permettent de faire des graphiques plus interactifs"
   ]
  },
  {
   "cell_type": "code",
   "execution_count": 2,
   "metadata": {},
   "outputs": [
    {
     "data": {
      "text/html": [
       "<script type=\"text/javascript\">window.PlotlyConfig = {MathJaxConfig: 'local'};</script><script type=\"text/javascript\">if (window.MathJax) {MathJax.Hub.Config({SVG: {font: \"STIX-Web\"}});}</script><script>requirejs.config({paths: { 'plotly': ['https://cdn.plot.ly/plotly-latest.min']},});if(!window._Plotly) {require(['plotly'],function(plotly) {window._Plotly=plotly;});}</script>"
      ],
      "text/vnd.plotly.v1+html": [
       "<script type=\"text/javascript\">window.PlotlyConfig = {MathJaxConfig: 'local'};</script><script type=\"text/javascript\">if (window.MathJax) {MathJax.Hub.Config({SVG: {font: \"STIX-Web\"}});}</script><script>requirejs.config({paths: { 'plotly': ['https://cdn.plot.ly/plotly-latest.min']},});if(!window._Plotly) {require(['plotly'],function(plotly) {window._Plotly=plotly;});}</script>"
      ]
     },
     "metadata": {},
     "output_type": "display_data"
    }
   ],
   "source": [
    "import plotly.tools as tls\n",
    "import plotly.offline as py\n",
    "from plotly.offline import init_notebook_mode, iplot, plot\n",
    "import plotly.graph_objs as go\n",
    "init_notebook_mode(connected=True)\n",
    "import warnings\n",
    "from collections import Counter"
   ]
  },
  {
   "cell_type": "markdown",
   "metadata": {},
   "source": [
    "# 1. Découverte des données"
   ]
  },
  {
   "cell_type": "markdown",
   "metadata": {},
   "source": [
    "Connaissance des informations principales des données brutes\n",
    "\n",
    "Chargement du dataset"
   ]
  },
  {
   "cell_type": "code",
   "execution_count": null,
   "metadata": {},
   "outputs": [],
   "source": [
    "df = pd.read_csv(\"../downloads/dataset.csv\")\n",
    "df.head()"
   ]
  },
  {
   "cell_type": "code",
   "execution_count": null,
   "metadata": {},
   "outputs": [],
   "source": [
    "df.tail()"
   ]
  },
  {
   "cell_type": "code",
   "execution_count": null,
   "metadata": {},
   "outputs": [],
   "source": [
    "df.info()"
   ]
  },
  {
   "cell_type": "code",
   "execution_count": null,
   "metadata": {},
   "outputs": [],
   "source": [
    "print(f'Le dataset comporte {df.shape[0]} samples et {df.shape[1]} variables')"
   ]
  },
  {
   "cell_type": "code",
   "execution_count": null,
   "metadata": {},
   "outputs": [],
   "source": [
    "df_col = df.columns.tolist()\n",
    "print('Les 15 variables sont les suivantes :')\n",
    "df_col"
   ]
  },
  {
   "cell_type": "code",
   "execution_count": null,
   "metadata": {},
   "outputs": [],
   "source": [
    "df.dtypes"
   ]
  },
  {
   "cell_type": "code",
   "execution_count": null,
   "metadata": {},
   "outputs": [],
   "source": [
    "num_var = ['ID','goal','pledged','backers','usd pledged','usd_pledged_real','usd_goal_real']\n",
    "obj_var = ['name','category','main_category','currency','deadline','launched','state','country']\n",
    "\n",
    "print(f'Les variables de type numérique sont les suivantes :\\n\\n{num_var}\\n\\n')\n",
    "print(f'Les variables de type objet/catégorie sont les suivantes:\\n\\n{obj_var}')"
   ]
  },
  {
   "cell_type": "code",
   "execution_count": null,
   "metadata": {},
   "outputs": [],
   "source": [
    "df.describe().T"
   ]
  },
  {
   "cell_type": "markdown",
   "metadata": {},
   "source": [
    "# 2. Données manquantes et/ou dupliquées"
   ]
  },
  {
   "cell_type": "code",
   "execution_count": null,
   "metadata": {},
   "outputs": [],
   "source": [
    "duplicated_values = df.duplicated().sum()\n",
    "print(f'Le dataset comporte {duplicated_values} valeurs dupliquées.')"
   ]
  },
  {
   "cell_type": "code",
   "execution_count": null,
   "metadata": {},
   "outputs": [],
   "source": [
    "null_c = df.isnull().sum(axis=0).sort_values(ascending=False)*100/df.shape[0]\n",
    "print(\"les features ont des données manquantes {}\".format(list(null_c[null_c !=0].index)))\n",
    "a = null_c.values\n",
    "b = null_c.index\n",
    "sns.barplot(x=a, y=b  )\n",
    "plt.xlabel(\"ratio %\")\n",
    "plt.ylabel(\"feature in data\")\n",
    "plt.title(\"ratio of missing data\")"
   ]
  },
  {
   "cell_type": "code",
   "execution_count": null,
   "metadata": {},
   "outputs": [],
   "source": [
    "col_nan = df.columns[df.isnull().any()]\n",
    "X_text = {'usd pledged'}\n",
    "print(f'Les variables contenant des données manquantes sont les suivantes :\\n\\n{X_text}')"
   ]
  },
  {
   "cell_type": "code",
   "execution_count": null,
   "metadata": {},
   "outputs": [],
   "source": [
    "df.count().plot.bar(title='Somme des données par variables', figsize=(15, 5))"
   ]
  },
  {
   "cell_type": "markdown",
   "metadata": {},
   "source": [
    "Pour gérer les valeurs manquantes, bien que quasiment insignifiante, nous allons utiliser la methode mode"
   ]
  },
  {
   "cell_type": "code",
   "execution_count": null,
   "metadata": {},
   "outputs": [],
   "source": [
    "df.loc[df['usd pledged'].isnull(),'usd pledged'] = df['usd pledged'].mode().ravel()[0]"
   ]
  },
  {
   "cell_type": "markdown",
   "metadata": {},
   "source": [
    "## La colonne 'state' semble être la colonne clé de ce dataset\n"
   ]
  },
  {
   "cell_type": "markdown",
   "metadata": {},
   "source": [
    "Nous allons nous pencher sur son analyse, car c'est elle qui nous donne l'état de realisation d'un projet. "
   ]
  },
  {
   "cell_type": "code",
   "execution_count": null,
   "metadata": {},
   "outputs": [],
   "source": [
    "\n",
    "percentual_sucess = round(df[\"state\"].value_counts() / len(df[\"state\"]) * 100,2)\n",
    "\n",
    "print(\"State Percentual in %: \")\n",
    "print(percentual_sucess)\n",
    "\n",
    "state = round(df[\"state\"].value_counts() / len(df[\"state\"]) * 100,2)\n",
    "\n",
    "labels = list(state.index)\n",
    "values = list(state.values)\n",
    "\n",
    "trace1 = go.Pie(labels=labels, values=values, marker=dict(colors=['red']))\n",
    "\n",
    "layout = go.Layout(title='Distribution of States', legend=dict(orientation=\"h\"));\n",
    "\n",
    "fig = go.Figure(data=[trace1], layout=layout)\n",
    "iplot(fig)\n",
    "\n"
   ]
  },
  {
   "cell_type": "markdown",
   "metadata": {},
   "source": [
    "Constat: \n",
    "\n",
    "Cette distribution nous permet d'avoir un vue globale des différents projets chez Kickstarter.\n",
    "\n",
    "On peut aisement faire le constat que 35,4% des projets rencontrent un 'Successful' \n",
    "Environ le 1/3 des projets lancés chez Kickstarter aboutissent.\n",
    "\n",
    "Par contre 52,2% des projets rencontrent un 'failed'\n",
    "Plus de la moitié des projets sont des échecs.\n",
    "\n",
    "Environ 10,2% des projets s'arrêtent en cours de route 'canceled'\n",
    "\n"
   ]
  },
  {
   "cell_type": "markdown",
   "metadata": {},
   "source": [
    "## On va s'interesser maintenant à la valeur qu'on souhaite prédire ..."
   ]
  },
  {
   "cell_type": "markdown",
   "metadata": {},
   "source": [
    "Pour ce faire, nous allons explorer les distributions logarithme de ces valeurs. "
   ]
  },
  {
   "cell_type": "code",
   "execution_count": null,
   "metadata": {},
   "outputs": [],
   "source": [
    "df_failed = df[df[\"state\"] == \"failed\"]\n",
    "df_sucess = df[df[\"state\"] == \"successful\"]\n",
    "\n",
    "#First plot\n",
    "trace0 = go.Histogram(\n",
    "    x= np.log(df.usd_goal_real + 1),\n",
    "    histnorm='probability', showlegend=False,\n",
    "    xbins=dict(\n",
    "        start=-5.0,\n",
    "        end=19.0,\n",
    "        size=1),\n",
    "    autobiny=True)\n",
    "\n",
    "#Second plot\n",
    "trace1 = go.Histogram(\n",
    "    x = np.log(df.usd_pledged_real + 1),\n",
    "    histnorm='probability', showlegend=False,\n",
    "    xbins=dict(\n",
    "        start=-1.0,\n",
    "        end=17.0,\n",
    "        size=1))\n",
    "\n",
    "# Add histogram data\n",
    "x1 = np.log(df_failed['usd_goal_real']+1)\n",
    "x2 = np.log(df_sucess[\"usd_goal_real\"]+1)\n",
    "\n",
    "trace3 = go.Histogram(\n",
    "    x=x1,\n",
    "    opacity=0.60, nbinsx=30, name='Goals Failed', histnorm='probability'\n",
    ")\n",
    "trace4 = go.Histogram(\n",
    "    x=x2,\n",
    "    opacity=0.60, nbinsx=30, name='Goals Sucessful', histnorm='probability'\n",
    ")\n",
    "\n",
    "\n",
    "data = [trace0, trace1, trace3, trace4]\n",
    "layout = go.Layout(barmode='overlay')\n",
    "\n",
    "#Creating the grid\n",
    "fig = tls.make_subplots(rows=2, cols=2, specs=[ [{'colspan': 2}, None], [{}, {}]],\n",
    "                          subplot_titles=('Failed and Sucessful Projects',\n",
    "                                          'Goal','Pledged'))\n",
    "\n",
    "#setting the figs\n",
    "fig.append_trace(trace0, 2, 1)\n",
    "fig.append_trace(trace1, 2, 2)\n",
    "fig.append_trace(trace3, 1, 1)\n",
    "fig.append_trace(trace4, 1, 1)\n",
    "\n",
    "fig['layout'].update(title=\"Distribution of projects\",\n",
    "                     height=500, width=900, barmode='overlay')\n",
    "iplot(fig)"
   ]
  },
  {
   "cell_type": "markdown",
   "metadata": {},
   "source": [
    "## Analyse des variables continues "
   ]
  },
  {
   "cell_type": "code",
   "execution_count": null,
   "metadata": {},
   "outputs": [],
   "source": [
    "print(\"Min Goal and Pledged values\")\n",
    "print(df[[\"goal\", \"pledged\"]].min())\n",
    "print(\"\")\n",
    "print(\"Mean Goal and Pledged values\")\n",
    "print(round(df[[\"goal\", \"pledged\"]].mean(),2))\n",
    "print(\"\")\n",
    "print(\"Median Goal and Pledged values\")\n",
    "print(df[[\"goal\", \"pledged\"]].median())\n",
    "print(\"\")\n",
    "print(\"Max Goal and Pledged values\")\n",
    "print(\"goal       100000000.0\") #If i put the both together give me back log values, \n",
    "print(\"pledged     20338986.27\") # so i decide to just show this values\n",
    "print(\"dtype: float64\")\n",
    "print(\"\")\n",
    "print(\"Std Goal and Pledged values\")\n",
    "print(round(df[[\"goal\", \"pledged\"]].std(),2))\n",
    "\n"
   ]
  },
  {
   "cell_type": "markdown",
   "metadata": {},
   "source": [
    "# 3. Outliers"
   ]
  },
  {
   "cell_type": "code",
   "execution_count": null,
   "metadata": {},
   "outputs": [],
   "source": [
    "df.boxplot(figsize=(15,5))\n"
   ]
  },
  {
   "cell_type": "markdown",
   "metadata": {},
   "source": [
    "# 4. Analyse Univariée"
   ]
  },
  {
   "cell_type": "code",
   "execution_count": null,
   "metadata": {},
   "outputs": [],
   "source": [
    "df.main_category.value_counts().plot(kind= 'bar', title= 'MAIN CATEGORY')"
   ]
  },
  {
   "cell_type": "code",
   "execution_count": null,
   "metadata": {},
   "outputs": [],
   "source": [
    "df.state.value_counts().plot(kind= 'bar', title= 'STATE')"
   ]
  },
  {
   "cell_type": "markdown",
   "metadata": {},
   "source": [
    "## Analisons plus en détail les catégories \n",
    "\n",
    "- Sucessful category's frequency\n",
    "- failed category's frequency\n",
    "- General Goal Distribuition by Category\n"
   ]
  },
  {
   "cell_type": "code",
   "execution_count": null,
   "metadata": {},
   "outputs": [],
   "source": [
    "main_cats = df[\"main_category\"].value_counts()\n",
    "main_cats_failed = df[df[\"state\"] == \"failed\"][\"main_category\"].value_counts()\n",
    "main_cats_sucess = df[df[\"state\"] == \"successful\"][\"main_category\"].value_counts()"
   ]
  },
  {
   "cell_type": "code",
   "execution_count": null,
   "metadata": {},
   "outputs": [],
   "source": [
    "# premier plot\n",
    "trace0 = go.Bar(\n",
    "    x=main_cats_failed.index,\n",
    "    y=main_cats_failed.values,\n",
    "    name=\"Failed Category's\"\n",
    ")\n",
    "# deuxieme plot\n",
    "trace1 = go.Bar(\n",
    "    x=main_cats_sucess.index,\n",
    "    y=main_cats_sucess.values,\n",
    "    name=\"Sucess Category's\"\n",
    ")\n",
    "# troisieme plot\n",
    "trace2 = go.Bar(\n",
    "    x=main_cats.index,\n",
    "    y=main_cats.values,\n",
    "    name=\"All Category's Distribution\"\n",
    ")\n",
    "\n",
    "# Creation du graphe \n",
    "fig = tls.make_subplots(rows=2, cols=2, specs=[[{}, {}], [{'colspan': 2}, None]],\n",
    "                          subplot_titles=('Failed','Sucessful', \"General Category's\"))\n",
    "\n",
    "# parametrage des graphes \n",
    "fig.append_trace(trace0, 1, 1)\n",
    "fig.append_trace(trace1, 1, 2)\n",
    "fig.append_trace(trace2, 2, 1)\n",
    "\n",
    "fig['layout'].update(showlegend=True, title=\"Main Category's Distribution\",bargap=0.05)\n",
    "iplot(fig)\n"
   ]
  },
  {
   "cell_type": "markdown",
   "metadata": {},
   "source": [
    "## Analyse de 'Goal' et de 'Pledged' by State"
   ]
  },
  {
   "cell_type": "code",
   "execution_count": null,
   "metadata": {},
   "outputs": [],
   "source": [
    "print(\"Analyse de 'Goal' et 'Pledged' moyenne par 'state' \")\n",
    "print(round(df.groupby([\"state\"])[\"goal\", \"usd_pledged_real\"].mean(),2))"
   ]
  },
  {
   "cell_type": "code",
   "execution_count": null,
   "metadata": {},
   "outputs": [],
   "source": [
    "categorys_failed = df[df[\"state\"] == \"failed\"][\"category\"].value_counts()[:25]\n",
    "categorys_sucessful = df[df[\"state\"] == \"successful\"][\"category\"].value_counts()[:25]\n",
    "categorys_general = df[\"category\"].value_counts()[:25]\n",
    "\n",
    "# premier plot\n",
    "trace0 = go.Histogram(\n",
    "    x=df[(df.category.isin(categorys_failed.index.values)) & \n",
    "              (df[\"state\"] == \"failed\")]['category'].head(100000),\n",
    "    histnorm='percent', name=\"Top 15 Failed\", showlegend=False\n",
    ")\n",
    "# deuxieme plot\n",
    "trace1 = go.Histogram(\n",
    "    x=df[(df.category.isin(categorys_sucessful.index.values)) & \n",
    "              (df[\"state\"] == \"successful\")]['category'].head(100000),\n",
    "    histnorm='percent', name=\"Top 15 Sucessful\", showlegend=False\n",
    ")\n",
    "\n",
    "# troisieme plot\n",
    "trace2 = go.Histogram(\n",
    "    x=df[(df.category.isin(categorys_general.index.values))]['category'].head(100000),\n",
    "    histnorm='percent', name=\"Top 25 All Category's\", showlegend=False\n",
    ")\n",
    "\n",
    "# creation du graphe\n",
    "fig = tls.make_subplots(rows=2, cols=2, specs=[[{}, {}], [{'colspan': 2}, None]],\n",
    "                          subplot_titles=('Top 15 Failed','Top 15 Sucessful', \"Top 25 All Category's\"))\n",
    "\n",
    "# parametrage des graphes \n",
    "fig.append_trace(trace0, 1, 1)\n",
    "fig.append_trace(trace1, 1, 2)\n",
    "fig.append_trace(trace2, 2, 1)\n",
    "\n",
    "fig['layout'].update(showlegend=True, title=\"Top Frequency Category's\")\n",
    "iplot(fig)"
   ]
  },
  {
   "cell_type": "code",
   "execution_count": null,
   "metadata": {},
   "outputs": [],
   "source": [
    "# premier plot\n",
    "trace0 = go.Box(\n",
    "    x=df[(df.category.isin(categorys_failed.index.values)) & \n",
    "              (df[\"state\"] == \"failed\")]['category'],\n",
    "    y=df[(df.category.isin(categorys_failed.index.values)) & \n",
    "              (df[\"state\"] == \"failed\")]['pledged_log'].head(100000),\n",
    "    name=\"Failed Category's\", showlegend=False\n",
    ")\n",
    "\n",
    "# deuxieme plot\n",
    "trace1 = go.Box(\n",
    "    x=df[(df.category.isin(categorys_sucessful.index.values)) & \n",
    "              (df[\"state\"] == \"successful\")]['category'],\n",
    "    y=df[(df.category.isin(categorys_sucessful.index.values)) & \n",
    "              (df[\"state\"] == \"successful\")]['pledged_log'].head(100000),\n",
    "    name=\"Sucessful Category's\", showlegend=False\n",
    ")\n",
    "\n",
    "# troisieme plot\n",
    "trace2 = go.Box(\n",
    "    x=df[(df.category.isin(categorys_general.index.values))]['category'],\n",
    "    y=df[(df.category.isin(categorys_general.index.values))]['pledged_log'].head(100000),\n",
    "    name=\"All Category's Distribuition\", showlegend=False\n",
    ")\n",
    "\n",
    "# creation de graphe \n",
    "fig = tls.make_subplots(rows=2, cols=2, specs=[[{}, {}], [{'colspan': 2}, None]],\n",
    "                          subplot_titles=('Failed','Sucessful', \"General Category's\", ))\n",
    "\n",
    "# parametrage de graphe\n",
    "fig.append_trace(trace0, 1, 1)\n",
    "fig.append_trace(trace1, 1, 2)\n",
    "fig.append_trace(trace2, 2, 1)\n",
    "\n",
    "fig['layout'].update(showlegend=True, title=\"Main Category's Distribution\")\n",
    "iplot(fig)"
   ]
  },
  {
   "cell_type": "code",
   "execution_count": null,
   "metadata": {},
   "outputs": [],
   "source": [
    "cat_fill = df[df.category.isin(categorys_failed[:10].index.values)]\n",
    "\n",
    "# premier plot\n",
    "trace0 = go.Box(\n",
    "    x=cat_fill['category'],\n",
    "    y=cat_fill['goal_log'].head(100000),\n",
    "    name=\"Failed Category's\", showlegend=False\n",
    ")\n",
    "\n",
    "# deuxieme plot\n",
    "trace1 = go.Box(\n",
    "    x=cat_fill['category'],\n",
    "    y=cat_fill['pledged_log'].head(100000),\n",
    "    name=\"Sucessful Category's\", showlegend=False\n",
    ")\n",
    "\n",
    "# troisieme plot\n",
    "trace2 = go.Box(\n",
    "    x=cat_fill['category'],\n",
    "    y=np.log(cat_fill['diff_pledged_goal'] + 1).head(100000),\n",
    "    name=\"Pledged\", showlegend=False\n",
    ")\n",
    "\n",
    "# Creation de graphe \n",
    "fig = tls.make_subplots(rows=2, cols=2, specs=[[{}, {}], [{'colspan': 2}, None]],\n",
    "                          subplot_titles=('Goal Log','Pledged Log', \"Diff of Pledged and Goal\", ))\n",
    "\n",
    "# parametrage de graphe \n",
    "fig.append_trace(trace0, 1, 1)\n",
    "fig.append_trace(trace1, 1, 2)\n",
    "fig.append_trace(trace2, 2, 1)\n",
    "\n",
    "fig['layout'].update(showlegend=True, \n",
    "                     title=\"Distribution of Values by Top 10 Categorys\")\n",
    "iplot(fig)"
   ]
  },
  {
   "cell_type": "markdown",
   "metadata": {},
   "source": [
    "## Nous nous focalisons sur les top 'succes' et les top 'fail' projects"
   ]
  },
  {
   "cell_type": "code",
   "execution_count": null,
   "metadata": {},
   "outputs": [],
   "source": [
    "sucess_music = df[(df['main_category'] == 'Music') & \n",
    "                      (df['state'] == 'successful')]\n",
    "sucess_filme_video = df[(df['main_category'] == 'Film & Video') & \n",
    "                      (df['state'] == 'successful')]\n",
    "sucess_games = df[(df['main_category'] == 'Games') & \n",
    "                      (df['state'] == 'successful')]\n",
    "\n",
    "plt.figure(figsize=(12,12))\n",
    "\n",
    "plt.subplot(3,1,1)\n",
    "ax0 = sns.countplot(x='category', data=sucess_music)\n",
    "ax0.set_xticklabels(ax0.get_xticklabels(),rotation=45)\n",
    "ax0.set_title(\"Categorys of Music with Sucess\", fontsize=15)\n",
    "ax0.set_xlabel(\"Music categories\", fontsize=12)\n",
    "ax0.set_ylabel(\"Counts\", fontsize=12)\n",
    "\n",
    "plt.subplot(3,1,2)\n",
    "ax1 = sns.countplot(x='category', data=sucess_filme_video)\n",
    "ax1.set_xticklabels(ax1.get_xticklabels(),rotation=45)\n",
    "ax1.set_title(\"Categorys of Film & Video with Sucess\", fontsize=15)\n",
    "ax1.set_xlabel(\"Film and Video Categorys\", fontsize=12)\n",
    "ax1.set_ylabel(\"Counts\", fontsize=12)\n",
    "\n",
    "plt.subplot(3,1,3)\n",
    "ax2 = sns.countplot(x='category', data=sucess_games)\n",
    "ax2.set_xticklabels(ax2.get_xticklabels(),rotation=45)\n",
    "ax2.set_title(\"Category Games with Sucess\", fontsize=15)\n",
    "ax2.set_xlabel(\"Categorys of Games with Sucess\", fontsize=12)\n",
    "ax2.set_ylabel(\"Counts\", fontsize=12)\n",
    "\n",
    "plt.subplots_adjust(wspace = 0.3, hspace = 0.9,top = 0.9)\n",
    "\n",
    "plt.show()"
   ]
  },
  {
   "cell_type": "markdown",
   "metadata": {},
   "source": [
    "## Main Category"
   ]
  },
  {
   "cell_type": "code",
   "execution_count": null,
   "metadata": {},
   "outputs": [],
   "source": [
    "failed_film = df[(df['main_category'] == 'Film & Video') & \n",
    "                      (df['state'] == 'failed')]\n",
    "failed_publishing = df[(df['main_category'] == 'Publishing') & \n",
    "                      (df['state'] == 'failed')]\n",
    "failed_music = df[(df['main_category'] == 'Music') & \n",
    "                      (df['state'] == 'failed')]\n",
    "\n",
    "plt.figure(figsize=(12,12))\n",
    "\n",
    "plt.subplot(3,1,1)\n",
    "ax0 = sns.countplot(x='category', data=failed_film)\n",
    "ax0.set_xticklabels(ax0.get_xticklabels(),rotation=45)\n",
    "ax0.set_title(\"Film & Video Most Fail Category's \", fontsize=15)\n",
    "ax0.set_xlabel(\"\", fontsize=12)\n",
    "ax0.set_ylabel(\"Counts\", fontsize=12)\n",
    "\n",
    "plt.subplot(3,1,2)\n",
    "ax1 = sns.countplot(x='category', data=failed_publishing)\n",
    "ax1.set_xticklabels(ax1.get_xticklabels(),rotation=45)\n",
    "ax1.set_title(\"Publishing Most Fail Category's\", fontsize=15)\n",
    "ax1.set_xlabel(\"\", fontsize=12)\n",
    "ax1.set_ylabel(\"Counts\", fontsize=12)\n",
    "\n",
    "plt.subplot(3,1,3)\n",
    "ax2 = sns.countplot(x='category', data=failed_music)\n",
    "ax2.set_xticklabels(ax2.get_xticklabels(),rotation=45)\n",
    "ax2.set_title(\"Music Most Fail Category's\", fontsize=15)\n",
    "ax2.set_xlabel(\"\", fontsize=12)\n",
    "ax2.set_ylabel(\"Counts\", fontsize=12)\n",
    "\n",
    "\n",
    "plt.subplots_adjust(wspace = 0.5, hspace = 0.9,top = 0.9)\n",
    "plt.show()"
   ]
  },
  {
   "cell_type": "markdown",
   "metadata": {},
   "source": [
    "En ce qui concerne la musique, les meilleurs succes sont Indie\n",
    "Les echecs concernent le Rock et le Hip Hop\n",
    "Par contre, les documentaires occupent une place non négligeable dans le classement....\n"
   ]
  },
  {
   "cell_type": "markdown",
   "metadata": {},
   "source": [
    "##  Le temps, une autre donnée, evaluons le en fonction des autres critères ..."
   ]
  },
  {
   "cell_type": "code",
   "execution_count": null,
   "metadata": {},
   "outputs": [],
   "source": [
    "df['launched'] = pd.to_datetime(df['launched'])\n",
    "df['laun_month_year'] = df['launched'].dt.to_period(\"M\")\n",
    "df['laun_year'] = df['launched'].dt.to_period(\"A\")\n",
    "df['laun_hour'] = df['launched'].dt.hour\n",
    "\n",
    "df['deadline'] = pd.to_datetime(df['deadline'])\n",
    "df['dead_month_year'] = df['deadline'].dt.to_period(\"M\")\n",
    "df['dead_year'] = df['launched'].dt.to_period(\"A\")"
   ]
  },
  {
   "cell_type": "code",
   "execution_count": null,
   "metadata": {},
   "outputs": [],
   "source": [
    "\n",
    "# Ajoutons une nouvelle colonne a notre Data Frame Campaign total months. \n",
    "df['time_campaign'] = df['dead_month_year'] - df['laun_month_year']\n",
    "df['time_campaign'] = df['time_campaign'].astype(int)\n",
    "\n"
   ]
  },
  {
   "cell_type": "code",
   "execution_count": null,
   "metadata": {},
   "outputs": [],
   "source": [
    "\n",
    "plt.figure(figsize = (10,6))\n",
    "\n",
    "ax = sns.countplot(x='time_campaign', hue='state', \n",
    "                   data=df[df['time_campaign'] < 10])\n",
    "ax.set_title(\"Distribuition of Campaign Time by State\", fontsize=30)\n",
    "ax.set_xlabel(\"Campaign Total Months\", fontsize=20)\n",
    "ax.set_ylabel(\"Count\", fontsize=20)\n",
    "plt.show()\n",
    "\n",
    "print(\"Descriptions of Campaign Time x State\")\n",
    "print(pd.crosstab(df[df['time_campaign'] < 5]['time_campaign'], df.state))"
   ]
  },
  {
   "cell_type": "code",
   "execution_count": null,
   "metadata": {},
   "outputs": [],
   "source": [
    "df.laun_month_year = df.laun_month_year.dt.strftime('%Y-%m')\n",
    "df.laun_year = df.laun_year.dt.strftime('%Y')\n"
   ]
  },
  {
   "cell_type": "code",
   "execution_count": null,
   "metadata": {},
   "outputs": [],
   "source": [
    "\n",
    "year = df['laun_year'].value_counts()\n",
    "month = df['laun_month_year'].value_counts()\n",
    "\n",
    "fig, ax = plt.subplots(2,1, figsize=(12,10))\n",
    "\n",
    "plt.subplot(211)\n",
    "ax1 = sns.boxplot(x=\"laun_year\", y='pledged_log', \n",
    "                  data=df[(df.laun_year > '2008') & (df.laun_year < '2018')])\n",
    "ax1.set_title(\"Project Pledged by Year\", fontsize=15)\n",
    "ax1.set_xlabel(\"Years\", fontsize=12)\n",
    "ax1.set_ylabel(\"Pledged(log)\", fontsize=12)\n",
    "\n",
    "plt.subplot(212)\n",
    "ax2 = sns.countplot(x=\"laun_year\", hue='state', \n",
    "                    data=df[(df.laun_year > '2008') & (df.laun_year < '2018')])\n",
    "ax2.set_title(\"Projects count by Year\", fontsize=18)\n",
    "ax2.set_xlabel(\"State columns by Year\", fontsize=15)\n",
    "ax2.set_ylabel(\"Count\", fontsize=15)\n",
    "\n",
    "#order=['1970','2009','2010','2011','2012',\n",
    "#'2013','2014','2015', '2016', '2017','2018']\n",
    "# Pourquoi l'ordre ne fonctionne pas? \n",
    "plt.show()\n",
    "\n",
    "print(\"Descriptive status count by year\")\n",
    "print(pd.crosstab(df.laun_year, df.state))"
   ]
  },
  {
   "cell_type": "markdown",
   "metadata": {},
   "source": [
    "\n",
    "## Analysons les distributions de la difference entre  'Pledged sucessful' et  'failed Projects'\n"
   ]
  },
  {
   "cell_type": "code",
   "execution_count": null,
   "metadata": {},
   "outputs": [],
   "source": [
    "plt.figure(figsize = (12,6))\n",
    "sns.distplot(df[(df['diff_pledged_goal'] < 200) & \n",
    "                     (df['state'] == 'failed')]['diff_pledged_goal'], color='r')\n",
    "sns.distplot(df[(df['diff_pledged_goal'] < 200) & \n",
    "                     (df['state'] == 'successful')]['diff_pledged_goal'],color='g')\n",
    "plt.show()\n"
   ]
  },
  {
   "cell_type": "code",
   "execution_count": null,
   "metadata": {},
   "outputs": [],
   "source": [
    "plt.figure(figsize = (18,15))\n",
    "\n",
    "plt.subplots_adjust(hspace = 0.35, top = 0.8)\n",
    "\n",
    "g1 = plt.subplot(211)\n",
    "g1 = sns.countplot(x=\"laun_month_year\", data=df[df['laun_month_year'] >= '2010-01'])\n",
    "g1.set_xticklabels(g1.get_xticklabels(),rotation=90)\n",
    "g1.set_title(\"Value Distribution by Date Distribution\", fontsize=30)\n",
    "g1.set_xlabel(\"Date Distribution\", fontsize=20)\n",
    "g1.set_ylabel(\"Count\", fontsize=20)\n",
    "\n",
    "g2 = plt.subplot(212)\n",
    "g2 = sns.boxplot(x=\"laun_year\", y=\"diff_pledged_goal\",\n",
    "                 data=df[df['diff_pledged_goal'] < 150], \n",
    "                 hue=\"state\")\n",
    "g2.set_xticklabels(g2.get_xticklabels(),rotation=90)\n",
    "g2.set_title(\"Value Distribution by Date Distribution\", fontsize=20)\n",
    "g2.set_xlabel(\"Date Distribution\", fontsize=20)\n",
    "g2.set_ylabel(\"Goal x Pledged (%)\", fontsize=20)\n",
    "plt.show()"
   ]
  },
  {
   "cell_type": "code",
   "execution_count": null,
   "metadata": {},
   "outputs": [],
   "source": [
    "plt.figure(figsize = (14,10))\n",
    "\n",
    "plt.subplots_adjust(hspace = 0.50, top = 0.8)\n",
    "\n",
    "plt.subplot(311)\n",
    "g =sns.boxplot(x='state', y='goal_log', \n",
    "            data=df[df['time_campaign'] < 10], \n",
    "            hue='time_campaign')\n",
    "g.set_title(\"State Goal's by Campaign Time\", fontsize=24)\n",
    "g.set_xlabel(\"\", fontsize=20)\n",
    "g.set_ylabel(\"Goal(log)\", fontsize=20)\n",
    "\n",
    "plt.subplot(312, sharex=g)\n",
    "g1 = sns.boxplot(x='state', y='pledged_log', \n",
    "            data=df[df['time_campaign'] < 10], \n",
    "            hue='time_campaign')\n",
    "g1.set_title(\"State Pledged's by Campaign Time\", fontsize=24)\n",
    "g1.set_xlabel(\"\", fontsize=20)\n",
    "g1.set_ylabel(\"Pledged(log)\", fontsize=20)\n",
    "\n",
    "plt.subplot(313)\n",
    "g2 = sns.boxplot(x='state', y='diff_pledged_goal', \n",
    "            data=df)\n",
    "g2.set_title(\"State % of Goal reached by Campaign Time\", fontsize=30)\n",
    "g2.set_xlabel(\"State\", fontsize=20)\n",
    "g2.set_ylabel(\"Percentual Goal\", fontsize=20)\n",
    "plt.show()"
   ]
  },
  {
   "cell_type": "code",
   "execution_count": null,
   "metadata": {},
   "outputs": [],
   "source": [
    "\n",
    "df['backers_log'] = np.log(df['backers'] + 1 ) \n",
    "#The + 1 is to normalize the zero or negative values\n",
    "\n",
    "plt.figure(figsize = (8,6))\n",
    "sns.distplot(df['backers_log'])\n",
    "\n",
    "plt.show()\n",
    "\n"
   ]
  },
  {
   "cell_type": "code",
   "execution_count": null,
   "metadata": {},
   "outputs": [],
   "source": [
    "plt.figure(figsize = (12,8))\n",
    "\n",
    "plt.subplot(211)\n",
    "g = sns.violinplot(x='state',y='backers_log', \n",
    "               data=df)\n",
    "g.set_title(\"Backers by STATE\", fontsize=18)\n",
    "\n",
    "plt.subplot(212)\n",
    "g = sns.violinplot(x='main_category',y='backers_log', \n",
    "                   data=df)\n",
    "g.set_xticklabels(g.get_xticklabels(),rotation=45)\n",
    "\n",
    "plt.show()"
   ]
  },
  {
   "cell_type": "markdown",
   "metadata": {},
   "source": [
    "## backers"
   ]
  },
  {
   "cell_type": "code",
   "execution_count": null,
   "metadata": {},
   "outputs": [],
   "source": [
    "plt.figure(figsize = (12,8))\n",
    "\n",
    "plt.subplot(211)\n",
    "g = sns.boxplot(x='laun_year',y='backers_log', \n",
    "               data=df[(df.laun_year > '2008') & (df.laun_year < '2018')])\n",
    "g.set_title(\"Backers by YEAR\", fontsize=18)\n",
    "\n",
    "plt.show()\n"
   ]
  },
  {
   "cell_type": "markdown",
   "metadata": {},
   "source": [
    "Analyse de la relation entre les financeurs et les buts atteints  'Backers' and '% of goal reached'"
   ]
  },
  {
   "cell_type": "code",
   "execution_count": null,
   "metadata": {
    "scrolled": true
   },
   "outputs": [],
   "source": [
    "sns.lmplot(x='diff_pledged_goal', y ='backers_log', \n",
    "           data=df[df['diff_pledged_goal'] < 2000], height = 5, aspect = 2,\n",
    "           hue='state')\n",
    "plt.show()\n"
   ]
  },
  {
   "cell_type": "markdown",
   "metadata": {},
   "source": [
    "# CONCLUSION"
   ]
  },
  {
   "cell_type": "code",
   "execution_count": null,
   "metadata": {},
   "outputs": [],
   "source": [
    "La plupart des projets qui sont financés sont ceux qui aboutissent le mieux\n",
    "\n",
    "Les projets les plus financés sont les 'Comics' et les 'Games'\n",
    "\n",
    "Les campagnes ne guarantissent pas forcement le succès d'un projet, 'failed', 'succes' et 'canceled' sont quasiment au même niveau lors de notre analyse\n",
    "'state goals par campaign time'\n",
    "\n",
    "\n"
   ]
  }
 ],
 "metadata": {
  "kernelspec": {
   "display_name": "Python 3",
   "language": "python",
   "name": "python3"
  },
  "language_info": {
   "codemirror_mode": {
    "name": "ipython",
    "version": 3
   },
   "file_extension": ".py",
   "mimetype": "text/x-python",
   "name": "python",
   "nbconvert_exporter": "python",
   "pygments_lexer": "ipython3",
   "version": "3.7.0"
  }
 },
 "nbformat": 4,
 "nbformat_minor": 2
}
